{
 "cells": [
  {
   "cell_type": "code",
   "execution_count": null,
   "metadata": {},
   "outputs": [],
   "source": [
    "%load_ext dotenv\n",
    "%dotenv\n",
    "\n",
    "import sqlite3\n",
    "import pandas as pd\n",
    "import os\n",
    "import json\n",
    "import hashlib\n",
    "import pgOperation\n",
    "from sqlalchemy.types import VARCHAR, Float, Integer, Date, Numeric\n",
    "pd.options.mode.chained_assignment = None\n",
    "\n",
    "ana = sqlite3.connect('./game_analysis.db')\n",
    "pg = pgOperation.PgOperation('localhost', '5432', os.getenv('PG_USER'), '1', 'tfm')"
   ]
  },
  {
   "cell_type": "code",
   "execution_count": null,
   "metadata": {},
   "outputs": [],
   "source": [
    "game_result_df = pg.readTable('game_results')\n",
    "game_result_df['createtime'] = pd.to_datetime(game_result_df['createtime'])"
   ]
  },
  {
   "cell_type": "code",
   "execution_count": null,
   "metadata": {},
   "outputs": [],
   "source": [
    "ods_main_games = pg.readTable('ods_main_games')\n",
    "ods_main_games['prop'] = ods_main_games['prop'].apply(lambda x:eval(x))\n",
    "pd.json_normalize(ods_main_games['prop'])"
   ]
  },
  {
   "cell_type": "code",
   "execution_count": null,
   "metadata": {},
   "outputs": [],
   "source": [
    "tmp_game_df = pd.melt(\n",
    "    # pd.concat([pd.DataFrame(pd.json_normalize(x)) for x in game_df['prop']],ignore_index=True)\n",
    "    pd.json_normalize(ods_main_games['prop'])\n",
    "    .reset_index(), id_vars='index', value_name='player_data').dropna(subset=['player_data']).set_index('index', drop=True)\n",
    "flat_game_df = (pd.json_normalize(tmp_game_df['player_data']).join(tmp_game_df.reset_index(drop=False)['index']).set_index('index')) \\\n",
    "    .join(ods_main_games.drop(['seed_game_id', 'game_options', 'prop'], axis=1)).reset_index()\n",
    "flat_game_df['position'] = flat_game_df.sort_index() \\\n",
    "            .groupby(['game_id']) \\\n",
    "            .cumcount() + 1\n",
    "flat_game_df['rank'] = flat_game_df.sort_values(['playerScore'], ascending=[False]) \\\n",
    "            .groupby(['game_id']) \\\n",
    "            .cumcount() + 1\n",
    "\n",
    "    # remove firstletter in flat_game_df['player'] if start with ~ or @\n",
    "flat_game_df['player'] = flat_game_df['player'].apply(lambda x: x[1:] if x[0] in ['~', '@', '～'] else x)\n",
    "# flat_game_df player to be lowercase\n",
    "flat_game_df['player'] = flat_game_df['player'].apply(lambda x: x.lower())\n",
    "\n",
    "flat_game_df.drop('index', axis=1).to_sql('ods_game_results', con=ana, if_exists='replace')\n",
    "\n",
    "# remove firstletter in flat_game_df['player'] if start with ~ or @\n",
    "flat_game_df['player'] = flat_game_df['player'].apply(lambda x: x[1:] if x[0] in ['~', '@', '～'] else x)\n",
    "# flat_game_df player to be lowercase\n",
    "flat_game_df['player'] = flat_game_df['player'].apply(lambda x: x.lower())\n",
    "\n",
    "flat_game_df.drop('index', axis=1, inplace=True)\n",
    "pg.writeDfToPg(flat_game_df, 'ods_game_results')\n"
   ]
  }
 ],
 "metadata": {
  "kernelspec": {
   "display_name": "base",
   "language": "python",
   "name": "python3"
  },
  "language_info": {
   "codemirror_mode": {
    "name": "ipython",
    "version": 3
   },
   "file_extension": ".py",
   "mimetype": "text/x-python",
   "name": "python",
   "nbconvert_exporter": "python",
   "pygments_lexer": "ipython3",
   "version": "3.11.5"
  }
 },
 "nbformat": 4,
 "nbformat_minor": 2
}
