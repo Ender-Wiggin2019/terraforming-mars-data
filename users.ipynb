{
 "cells": [
  {
   "cell_type": "markdown",
   "metadata": {},
   "source": [
    "# 用户账号处理\n",
    "\n"
   ]
  },
  {
   "cell_type": "code",
   "execution_count": 4,
   "metadata": {},
   "outputs": [
    {
     "name": "stdout",
     "output_type": "stream",
     "text": [
      "The dotenv extension is already loaded. To reload it, use:\n",
      "  %reload_ext dotenv\n"
     ]
    }
   ],
   "source": [
    "%load_ext dotenv\n",
    "%dotenv\n",
    "\n",
    "import sqlite3\n",
    "import pandas as pd\n",
    "import os\n",
    "import json\n",
    "import hashlib\n",
    "import pgOperation\n",
    "from sqlalchemy.types import VARCHAR, Float, Integer, Date, Numeric\n",
    "pd.options.mode.chained_assignment = None\n",
    "\n",
    "ana = sqlite3.connect('./game_analysis.db')\n",
    "pg = pgOperation.PgOperation('localhost', '5432', os.getenv('PG_USER'), '1', 'tfm')"
   ]
  },
  {
   "cell_type": "code",
   "execution_count": 5,
   "metadata": {},
   "outputs": [
    {
     "name": "stderr",
     "output_type": "stream",
     "text": [
      "/home/cyan/Documents/gh/terraforming-mars-data/pgOperation.py:26: UserWarning: pandas only supports SQLAlchemy connectable (engine/connection) or database string URI or sqlite3 DBAPI2 connection. Other DBAPI2 objects are not tested. Please consider using SQLAlchemy.\n",
      "  df = pd.read_sql(sql,con=conn)\n"
     ]
    }
   ],
   "source": [
    "user = pg.readTable('users');\n",
    "user.drop_duplicates(subset=['id'],keep='last', inplace=True)\n",
    "user['user_name'] = user['name']\n",
    "user['is_id'] = 1\n",
    "user = user.loc[:,['name', 'user_name', 'is_id']]\n",
    "user_csv = pd.read_csv('data/alias_to_user_name.csv')\n",
    "user_csv['is_id'] = 0\n",
    "# user_name to lowercase\n",
    "user['name'] = user['name'].str.lower()\n",
    "user['user_name'] = user['user_name'].str.lower()\n",
    "user_csv.columns = user.columns\n",
    "user_df = pd.concat([user,user_csv],axis=0).drop_duplicates(keep='first', inplace=False)\n",
    "pg.writeDfToPg(user_df, 'ods_user_alias') # 用于匹配用户id"
   ]
  },
  {
   "cell_type": "code",
   "execution_count": 6,
   "metadata": {},
   "outputs": [
    {
     "name": "stderr",
     "output_type": "stream",
     "text": [
      "/home/cyan/Documents/gh/terraforming-mars-data/pgOperation.py:37: UserWarning: pandas only supports SQLAlchemy connectable (engine/connection) or database string URI or sqlite3 DBAPI2 connection. Other DBAPI2 objects are not tested. Please consider using SQLAlchemy.\n",
      "  df = pd.read_sql(sql,con=conn)\n"
     ]
    }
   ],
   "source": [
    "# 在存在用户别名的情况下，还有用户名匹配哪些是缺漏的\n",
    "sql = \"\"\"\n",
    "select c.player, '' as 实际用户名, count(*) as 出现次数\n",
    "from (select a.*, b.user_name\n",
    "      from ods_game_2023_results as a\n",
    "               left join ods_user_alias as b on a.player = b.name) as c\n",
    "where c.user_name is null\n",
    "group by c.player\n",
    "order by count(*) desc;\n",
    "\"\"\"\n",
    "pg.readSql(sql).to_csv('data/missing_user_name.csv', index=False)"
   ]
  },
  {
   "cell_type": "markdown",
   "metadata": {},
   "source": [
    "## Supabase"
   ]
  },
  {
   "cell_type": "code",
   "execution_count": 8,
   "metadata": {},
   "outputs": [],
   "source": [
    "\n",
    "# import os\n",
    "# from supabase import create_client, Client\n",
    "\n",
    "# url: str = os.environ.get(\"SUPABASE_URL\")\n",
    "# key: str = os.environ.get(\"SUPABASE_KEY\")\n",
    "# supabase: Client = create_client(url, key)"
   ]
  },
  {
   "cell_type": "code",
   "execution_count": 9,
   "metadata": {},
   "outputs": [],
   "source": [
    "# 生成用户账号密码表，并上传到supabase用于鉴权\n",
    "supabase_user_df = pd.read_sql_query(\"select * from users_2022\", cnx_o);\n",
    "# supabase_user_df['is_superuser'] = 0\n",
    "# supabase_user_df['is_active'] = 1\n",
    "# supabase_user_df['is_staff'] = 0"
   ]
  },
  {
   "cell_type": "code",
   "execution_count": 12,
   "metadata": {},
   "outputs": [],
   "source": [
    "supabase_user_df.to_csv('user.csv', index=False)"
   ]
  },
  {
   "cell_type": "code",
   "execution_count": null,
   "metadata": {},
   "outputs": [
    {
     "data": {
      "text/html": [
       "<div>\n",
       "<style scoped>\n",
       "    .dataframe tbody tr th:only-of-type {\n",
       "        vertical-align: middle;\n",
       "    }\n",
       "\n",
       "    .dataframe tbody tr th {\n",
       "        vertical-align: top;\n",
       "    }\n",
       "\n",
       "    .dataframe thead th {\n",
       "        text-align: right;\n",
       "    }\n",
       "</style>\n",
       "<table border=\"1\" class=\"dataframe\">\n",
       "  <thead>\n",
       "    <tr style=\"text-align: right;\">\n",
       "      <th></th>\n",
       "      <th>id</th>\n",
       "      <th>name</th>\n",
       "      <th>password</th>\n",
       "    </tr>\n",
       "  </thead>\n",
       "  <tbody>\n",
       "    <tr>\n",
       "      <th>0</th>\n",
       "      <td>3a2ae147d214</td>\n",
       "      <td>dawn</td>\n",
       "      <td>a3b0417b947057c57b4e7dbabac810fc</td>\n",
       "    </tr>\n",
       "    <tr>\n",
       "      <th>1</th>\n",
       "      <td>f809d54498c</td>\n",
       "      <td>友人</td>\n",
       "      <td>62cd53b114f130f42067ea4034208354</td>\n",
       "    </tr>\n",
       "    <tr>\n",
       "      <th>2</th>\n",
       "      <td>f1047bf31e48</td>\n",
       "      <td>冰雪</td>\n",
       "      <td>9656d15550c3807ced8f09d14f0af618</td>\n",
       "    </tr>\n",
       "    <tr>\n",
       "      <th>3</th>\n",
       "      <td>55ef2445c90c</td>\n",
       "      <td>乙木</td>\n",
       "      <td>96e79218965eb72c92a549dd5a330112</td>\n",
       "    </tr>\n",
       "    <tr>\n",
       "      <th>4</th>\n",
       "      <td>1b736baf443a</td>\n",
       "      <td>NoswordKnight</td>\n",
       "      <td>241ce91f699af0dc12f9fbf99b31f6b6</td>\n",
       "    </tr>\n",
       "    <tr>\n",
       "      <th>...</th>\n",
       "      <td>...</td>\n",
       "      <td>...</td>\n",
       "      <td>...</td>\n",
       "    </tr>\n",
       "    <tr>\n",
       "      <th>5505</th>\n",
       "      <td>46b2753edcdf</td>\n",
       "      <td>xu</td>\n",
       "      <td>8d91d563f78e48d6fb381bae1baf28ce</td>\n",
       "    </tr>\n",
       "    <tr>\n",
       "      <th>5506</th>\n",
       "      <td>a7c93d48d96d</td>\n",
       "      <td>biaodi</td>\n",
       "      <td>9b19d88409968a39643d8cf6183192bc</td>\n",
       "    </tr>\n",
       "    <tr>\n",
       "      <th>5507</th>\n",
       "      <td>cb42a581e99b</td>\n",
       "      <td>阿斯刚超</td>\n",
       "      <td>83fd1c87b4d2d8a4e55a56d81614823d</td>\n",
       "    </tr>\n",
       "    <tr>\n",
       "      <th>5508</th>\n",
       "      <td>cb42a581e99b</td>\n",
       "      <td>阿斯刚超</td>\n",
       "      <td>83fd1c87b4d2d8a4e55a56d81614823d</td>\n",
       "    </tr>\n",
       "    <tr>\n",
       "      <th>5509</th>\n",
       "      <td>8a8df7b5beb0</td>\n",
       "      <td>fallingice</td>\n",
       "      <td>dcaa0d8b570abeeeb590247cbc5bdb30</td>\n",
       "    </tr>\n",
       "  </tbody>\n",
       "</table>\n",
       "<p>5510 rows × 3 columns</p>\n",
       "</div>"
      ],
      "text/plain": [
       "                id           name                          password\n",
       "0     3a2ae147d214           dawn  a3b0417b947057c57b4e7dbabac810fc\n",
       "1      f809d54498c             友人  62cd53b114f130f42067ea4034208354\n",
       "2     f1047bf31e48             冰雪  9656d15550c3807ced8f09d14f0af618\n",
       "3     55ef2445c90c             乙木  96e79218965eb72c92a549dd5a330112\n",
       "4     1b736baf443a  NoswordKnight  241ce91f699af0dc12f9fbf99b31f6b6\n",
       "...            ...            ...                               ...\n",
       "5505  46b2753edcdf             xu  8d91d563f78e48d6fb381bae1baf28ce\n",
       "5506  a7c93d48d96d         biaodi  9b19d88409968a39643d8cf6183192bc\n",
       "5507  cb42a581e99b           阿斯刚超  83fd1c87b4d2d8a4e55a56d81614823d\n",
       "5508  cb42a581e99b           阿斯刚超  83fd1c87b4d2d8a4e55a56d81614823d\n",
       "5509  8a8df7b5beb0     fallingice  dcaa0d8b570abeeeb590247cbc5bdb30\n",
       "\n",
       "[5510 rows x 3 columns]"
      ]
     },
     "execution_count": 10,
     "metadata": {},
     "output_type": "execute_result"
    }
   ],
   "source": [
    "pd.read_sql_query(\"SELECT * FROM users\", cnx_o)"
   ]
  },
  {
   "cell_type": "code",
   "execution_count": null,
   "metadata": {},
   "outputs": [
    {
     "data": {
      "text/html": [
       "<div>\n",
       "<style scoped>\n",
       "    .dataframe tbody tr th:only-of-type {\n",
       "        vertical-align: middle;\n",
       "    }\n",
       "\n",
       "    .dataframe tbody tr th {\n",
       "        vertical-align: top;\n",
       "    }\n",
       "\n",
       "    .dataframe thead th {\n",
       "        text-align: right;\n",
       "    }\n",
       "</style>\n",
       "<table border=\"1\" class=\"dataframe\">\n",
       "  <thead>\n",
       "    <tr style=\"text-align: right;\">\n",
       "      <th></th>\n",
       "      <th>name</th>\n",
       "      <th>user_name</th>\n",
       "      <th>is_id</th>\n",
       "    </tr>\n",
       "  </thead>\n",
       "  <tbody>\n",
       "    <tr>\n",
       "      <th>0</th>\n",
       "      <td>文生</td>\n",
       "      <td>文生</td>\n",
       "      <td>1</td>\n",
       "    </tr>\n",
       "    <tr>\n",
       "      <th>1</th>\n",
       "      <td>星雨日和</td>\n",
       "      <td>星雨日和</td>\n",
       "      <td>1</td>\n",
       "    </tr>\n",
       "    <tr>\n",
       "      <th>2</th>\n",
       "      <td>outwhite</td>\n",
       "      <td>outwhite</td>\n",
       "      <td>1</td>\n",
       "    </tr>\n",
       "    <tr>\n",
       "      <th>3</th>\n",
       "      <td>冰雪</td>\n",
       "      <td>冰雪</td>\n",
       "      <td>1</td>\n",
       "    </tr>\n",
       "    <tr>\n",
       "      <th>4</th>\n",
       "      <td>庄生</td>\n",
       "      <td>庄生</td>\n",
       "      <td>1</td>\n",
       "    </tr>\n",
       "    <tr>\n",
       "      <th>...</th>\n",
       "      <td>...</td>\n",
       "      <td>...</td>\n",
       "      <td>...</td>\n",
       "    </tr>\n",
       "    <tr>\n",
       "      <th>5095</th>\n",
       "      <td>智慧球</td>\n",
       "      <td>宵暗</td>\n",
       "      <td>0</td>\n",
       "    </tr>\n",
       "    <tr>\n",
       "      <th>5096</th>\n",
       "      <td>魔术本就逆天而行</td>\n",
       "      <td>宵暗</td>\n",
       "      <td>0</td>\n",
       "    </tr>\n",
       "    <tr>\n",
       "      <th>5097</th>\n",
       "      <td>园</td>\n",
       "      <td>yuan</td>\n",
       "      <td>0</td>\n",
       "    </tr>\n",
       "    <tr>\n",
       "      <th>5098</th>\n",
       "      <td>sssssss</td>\n",
       "      <td>silenced</td>\n",
       "      <td>0</td>\n",
       "    </tr>\n",
       "    <tr>\n",
       "      <th>5099</th>\n",
       "      <td>jw</td>\n",
       "      <td>3380431852</td>\n",
       "      <td>0</td>\n",
       "    </tr>\n",
       "  </tbody>\n",
       "</table>\n",
       "<p>5100 rows × 3 columns</p>\n",
       "</div>"
      ],
      "text/plain": [
       "          name   user_name  is_id\n",
       "0           文生          文生      1\n",
       "1         星雨日和        星雨日和      1\n",
       "2     outwhite    outwhite      1\n",
       "3           冰雪          冰雪      1\n",
       "4           庄生          庄生      1\n",
       "...        ...         ...    ...\n",
       "5095       智慧球          宵暗      0\n",
       "5096  魔术本就逆天而行          宵暗      0\n",
       "5097         园        yuan      0\n",
       "5098   sssssss    silenced      0\n",
       "5099        jw  3380431852      0\n",
       "\n",
       "[5100 rows x 3 columns]"
      ]
     },
     "execution_count": 6,
     "metadata": {},
     "output_type": "execute_result"
    }
   ],
   "source": [
    "pd.read_sql_query(\"SELECT * FROM ods_user_alias\", ana_o)"
   ]
  }
 ],
 "metadata": {
  "kernelspec": {
   "display_name": "base",
   "language": "python",
   "name": "python3"
  },
  "language_info": {
   "codemirror_mode": {
    "name": "ipython",
    "version": 3
   },
   "file_extension": ".py",
   "mimetype": "text/x-python",
   "name": "python",
   "nbconvert_exporter": "python",
   "pygments_lexer": "ipython3",
   "version": "3.11.5"
  }
 },
 "nbformat": 4,
 "nbformat_minor": 2
}
