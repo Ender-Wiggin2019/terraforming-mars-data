{
 "cells": [
  {
   "cell_type": "markdown",
   "metadata": {},
   "source": [
    "# 用户账号处理\n",
    "\n"
   ]
  },
  {
   "cell_type": "code",
   "execution_count": null,
   "metadata": {},
   "outputs": [],
   "source": [
    "import pandas as pd\n",
    "import numpy as np\n",
    "import os\n",
    "import json\n",
    "import re\n",
    "import matplotlib.pyplot as plt\n",
    "import sqlite3\n",
    "from sqlalchemy.types import VARCHAR, Float, Integer, Date, Numeric\n",
    "pd.options.mode.chained_assignment = None\n",
    "\n",
    "plt.rcParams['font.sans-serif'] = ['Arial Unicode MS']\n"
   ]
  },
  {
   "cell_type": "code",
   "execution_count": null,
   "metadata": {},
   "outputs": [],
   "source": [
    "ana_o = sqlite3.connect('./game_analysis.db') # 未来用于数据分析的 db, 首次会自动创建"
   ]
  },
  {
   "cell_type": "code",
   "execution_count": null,
   "metadata": {},
   "outputs": [],
   "source": [
    "cnx_o = sqlite3.connect('./db/game.db') # 从数据库直接导出的 db\n"
   ]
  },
  {
   "cell_type": "code",
   "execution_count": null,
   "metadata": {},
   "outputs": [],
   "source": [
    "user = pd.read_sql_query(\"SELECT * FROM users\", cnx_o)\n",
    "user2022 = pd.read_sql_query(\"SELECT * FROM users_2022\", cnx_o)\n",
    "user = user.append(user2022)\n",
    "user.drop_duplicates(subset=['id'],keep='last', inplace=True)\n",
    "user['user_name'] = user['name']\n",
    "user['is_id'] = 1\n",
    "user = user.loc[:,['name', 'user_name', 'is_id']]\n",
    "user_csv = pd.read_csv('data/alias_to_user_name.csv')\n",
    "user_csv['is_id'] = 0\n",
    "# user_name to lowercase\n",
    "user['name'] = user['name'].str.lower()\n",
    "user['user_name'] = user['user_name'].str.lower()\n",
    "user_csv.columns = user.columns\n",
    "user_df = pd.concat([user,user_csv],axis=0).drop_duplicates(keep='first', inplace=False)\n",
    "user_df.to_sql('ods_user_alias', con=ana_o, if_exists='replace', index=False)"
   ]
  }
 ],
 "metadata": {
  "kernelspec": {
   "display_name": "base",
   "language": "python",
   "name": "python3"
  },
  "language_info": {
   "codemirror_mode": {
    "name": "ipython",
    "version": 3
   },
   "file_extension": ".py",
   "mimetype": "text/x-python",
   "name": "python",
   "nbconvert_exporter": "python",
   "pygments_lexer": "ipython3",
   "version": "3.8.8"
  }
 },
 "nbformat": 4,
 "nbformat_minor": 2
}
